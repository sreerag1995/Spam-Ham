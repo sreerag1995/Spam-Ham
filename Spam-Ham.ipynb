{
 "cells": [
  {
   "cell_type": "code",
   "execution_count": 5,
   "id": "d885b7b6",
   "metadata": {},
   "outputs": [
    {
     "name": "stderr",
     "output_type": "stream",
     "text": [
      "[nltk_data] Downloading package stopwords to\n",
      "[nltk_data]     C:\\Users\\Sys\\AppData\\Roaming\\nltk_data...\n",
      "[nltk_data]   Package stopwords is already up-to-date!\n"
     ]
    },
    {
     "name": "stdout",
     "output_type": "stream",
     "text": [
      "              precision    recall  f1-score   support\n",
      "\n",
      "           0       0.99      0.98      0.99       968\n",
      "           1       0.88      0.96      0.92       147\n",
      "\n",
      "    accuracy                           0.98      1115\n",
      "   macro avg       0.94      0.97      0.95      1115\n",
      "weighted avg       0.98      0.98      0.98      1115\n",
      "\n"
     ]
    },
    {
     "data": {
      "image/png": "[encoded data removed]",
      "text/plain": [
       "<Figure size 432x288 with 2 Axes>"
      ]
     },
     "metadata": {
      "needs_background": "light"
     },
     "output_type": "display_data"
    }
   ],
   "source": [
    "#Spam Ham\n",
    "\n",
    "import numpy as np\n",
    "import pandas as pd\n",
    "import seaborn as sns\n",
    "import nltk\n",
    "nltk.download('stopwords')\n",
    "df_spam = pd.read_csv('smsspamcollection/SMSSpamCollection',sep='\\t',\n",
    "                           names=[\"label\", \"message\"])\n",
    "from nltk import word_tokenize,sent_tokenize\n",
    "from nltk.corpus import stopwords\n",
    "from nltk.stem import PorterStemmer,WordNetLemmatizer\n",
    "import re\n",
    "#Clean the date\n",
    "le = WordNetLemmatizer()\n",
    "list_words = []\n",
    "for i in range(len(df_spam)):\n",
    "    res = re.sub('[^a-zA-Z]', ' ', df_spam['message'][i])\n",
    "    res = res.lower()\n",
    "    res = res.split()\n",
    "    res = [le.lemmatize(word) for word in res if word not in set(stopwords.words('english'))]\n",
    "    res = ' '.join(res)\n",
    "    list_words.append(res)\n",
    "#Bag of words\n",
    "from sklearn.feature_extraction.text import CountVectorizer\n",
    "from sklearn.feature_extraction.text import TfidfVectorizer\n",
    "cv = CountVectorizer()\n",
    "tf = TfidfVectorizer()\n",
    "x_cv = cv.fit_transform(list_words).toarray()\n",
    "x_tf = tf.fit_transform(list_words).toarray()\n",
    "y = pd.get_dummies(df_spam['label'])\n",
    "y=y.iloc[:,1].values\n",
    "\n",
    "#Train test split\n",
    "from sklearn.model_selection import train_test_split\n",
    "x_train,x_test,y_train,y_test = train_test_split(x_cv,y,test_size=0.2,random_state=1)\n",
    "\n",
    "#Training model\n",
    "from sklearn.naive_bayes import MultinomialNB\n",
    "mu = MultinomialNB()\n",
    "naive_model = mu.fit(x_train,y_train)\n",
    "y_pred = naive_model.predict(x_test)\n",
    "\n",
    "#Confusion matrix, accuracy scores\n",
    "\n",
    "from sklearn.metrics import classification_report,confusion_matrix\n",
    "print(classification_report(y_test,y_pred))\n",
    "cm = confusion_matrix(y_test,y_pred)\n",
    "sns.heatmap(cm,annot=True,fmt='d');"
   ]
  },
  {
   "cell_type": "code",
   "execution_count": 6,
   "id": "0bc34ce4",
   "metadata": {},
   "outputs": [
    {
     "name": "stdout",
     "output_type": "stream",
     "text": [
      "              precision    recall  f1-score   support\n",
      "\n",
      "           0       0.97      1.00      0.99       968\n",
      "           1       0.99      0.82      0.90       147\n",
      "\n",
      "    accuracy                           0.97      1115\n",
      "   macro avg       0.98      0.91      0.94      1115\n",
      "weighted avg       0.98      0.97      0.97      1115\n",
      "\n"
     ]
    },
    {
     "data": {
      "image/png": "[encoded data removed]",
      "text/plain": [
       "<Figure size 432x288 with 2 Axes>"
      ]
     },
     "metadata": {
      "needs_background": "light"
     },
     "output_type": "display_data"
    }
   ],
   "source": [
    "#Train test split with TF-IDF method\n",
    "from sklearn.model_selection import train_test_split\n",
    "x_train,x_test,y_train,y_test = train_test_split(x_tf,y,test_size=0.2,random_state=1)\n",
    "\n",
    "#Training model\n",
    "from sklearn.naive_bayes import MultinomialNB\n",
    "mu = MultinomialNB()\n",
    "naive_model = mu.fit(x_train,y_train)\n",
    "y_pred = naive_model.predict(x_test)\n",
    "\n",
    "#Confusion matrix, accuracy scores\n",
    "\n",
    "from sklearn.metrics import classification_report,confusion_matrix\n",
    "print(classification_report(y_test,y_pred))\n",
    "cm = confusion_matrix(y_test,y_pred)\n",
    "sns.heatmap(cm,annot=True,fmt='d');"
   ]
  },
  {
   "cell_type": "code",
   "execution_count": null,
   "id": "6ad06739",
   "metadata": {},
   "outputs": [],
   "source": []
  }
 ],
 "metadata": {
  "kernelspec": {
   "display_name": "Python 3",
   "language": "python",
   "name": "python3"
  },
  "language_info": {
   "codemirror_mode": {
    "name": "ipython",
    "version": 3
   },
   "file_extension": ".py",
   "mimetype": "text/x-python",
   "name": "python",
   "nbconvert_exporter": "python",
   "pygments_lexer": "ipython3",
   "version": "3.8.8"
  }
 },
 "nbformat": 4,
 "nbformat_minor": 5
}
